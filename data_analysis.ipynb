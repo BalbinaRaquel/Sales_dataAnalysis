{
 "cells": [
  {
   "cell_type": "markdown",
   "metadata": {},
   "source": [
    "# <b>Sales Data Analysis: Clothing Store </b>\n",
    "\n",
    "### <b>Description</b>\n",
    "\n",
    "Sales analysis project based on sales data from 5 (five) stores. \n",
    "The Company's Challenge Is to Increase Sales, and, to this end, it wants to use store sales data for identifying actions to improve sales.\n",
    "\n",
    "\n",
    "### <b>Purpose</b>\n",
    "\n",
    "Based on information from the 5 stores, using the Sales Database, the aim is to investigate how the stores' sales and turnover of each store are going and identify which are the best performers and, thus, identify practical and feasible actions to increase sales.\n",
    "\n",
    "### <b>Analysis procedures</b>\n",
    "\n",
    "- Step 1 - Bring the database into Python and check the relevant information it contains;\n",
    "- Step 2 - Understand the general overview of the database;\n",
    "- Step 3 - Start a Top -> Down analysis;\n",
    "- Step 4 - Analyze the data in detail and identify sales improvement actions."
   ]
  },
  {
   "cell_type": "markdown",
   "metadata": {},
   "source": [
    "### Step 1 - Bring the database into Python and check the relevant information it contains"
   ]
  },
  {
   "cell_type": "code",
   "execution_count": null,
   "metadata": {},
   "outputs": [],
   "source": [
    "import pandas as pd\n",
    "\n",
    "data_table = pd.read_excel('Vendas.slsx')\n",
    "display(data_table)"
   ]
  },
  {
   "cell_type": "code",
   "execution_count": null,
   "metadata": {},
   "outputs": [],
   "source": []
  }
 ],
 "metadata": {
  "kernelspec": {
   "display_name": "base",
   "language": "python",
   "name": "python3"
  },
  "language_info": {
   "name": "python",
   "version": "3.11.7"
  }
 },
 "nbformat": 4,
 "nbformat_minor": 2
}
